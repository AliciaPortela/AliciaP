{
 "cells": [
  {
   "cell_type": "code",
   "execution_count": null,
   "metadata": {},
   "outputs": [],
   "source": [
    "# Problem 1\n",
    "\n",
    "cp Locus_Germplasm_Phenotype_20130122.txt ~/BioinformaticsCourseGit/AliciaP\n",
    "cd .. \n",
    "cd AliciaP/\n",
    "jupyter notebook"
   ]
  },
  {
   "cell_type": "code",
   "execution_count": 1,
   "metadata": {},
   "outputs": [
    {
     "name": "stdout",
     "output_type": "stream",
     "text": [
      "-rw-rw-r-- 1 osboxes osboxes 1.2M Sep  6 06:49 Locus_Germplasm_Phenotype_20130122.txt\n"
     ]
    }
   ],
   "source": [
    "# Problem 2\n",
    "\n",
    "ls -lh | tail -2  | head -1"
   ]
  },
  {
   "cell_type": "markdown",
   "metadata": {},
   "source": [
    "Problem 2 (code explanation)\n",
    "\n",
    "I have used 'ls' command to display the directory listing, and also, I used the arguments -l and -h to show the ownership of the file and the file-size of the file in Megabytes (human readable size), respectively. On the other hand, as I only want to see the display of that file, so I piped this command with 'tail -2', which show the last 2 lines of the output of 'ls -lh', and again, pipe it with 'head -1' command, that prints the very first line of the previous output.\n",
    "\n",
    "Problem 2 (explanation)\n",
    "\n",
    "The file is readable and writable by user. The file is readable and writable by group. The file is only readable by anyone.\n"
   ]
  },
  {
   "cell_type": "code",
   "execution_count": 2,
   "metadata": {},
   "outputs": [
    {
     "name": "stdout",
     "output_type": "stream",
     "text": [
      "Locus_name)\tGermplasm_name\tphenotype\tpubmed_id\n"
     ]
    }
   ],
   "source": [
    "# Problem 3\n",
    "\n",
    "head -1 Locus_Germplasm_Phenotype_20130122.txt"
   ]
  },
  {
   "cell_type": "markdown",
   "metadata": {},
   "source": [
    "Problem 3 (explanation)\n",
    "\n",
    "I have used 'head' command to print the (10) first lines of the file. But, as I only want to print te first one, I used the argument '-1'.\n"
   ]
  },
  {
   "cell_type": "code",
   "execution_count": 4,
   "metadata": {},
   "outputs": [
    {
     "name": "stdout",
     "output_type": "stream",
     "text": [
      "7216 Locus_Germplasm_Phenotype_20130122.txt\n"
     ]
    }
   ],
   "source": [
    "# Problem 4\n",
    "\n",
    "wc -l Locus_Germplasm_Phenotype_20130122.txt\n"
   ]
  },
  {
   "cell_type": "markdown",
   "metadata": {},
   "source": [
    "Problem 4 (explanation)\n",
    "\n",
    "I used the 'wc' command, which show by default the number of lines, number of words and number of characters. As I only wanted to see the number of lines, I used the argument '-l'.\n"
   ]
  },
  {
   "cell_type": "code",
   "execution_count": 5,
   "metadata": {},
   "outputs": [
    {
     "name": "stdout",
     "output_type": "stream",
     "text": [
      "7216 Locus_Germplasm_Phenotype_20130122.txt\n",
      "7215 data_only.csv\n"
     ]
    }
   ],
   "source": [
    "# Problem 5\n",
    "\n",
    "wc -l Locus_Germplasm_Phenotype_20130122.txt\n",
    "tail -7215 Locus_Germplasm_Phenotype_20130122.txt > data_only.csv\n",
    "\n",
    "wc -l data_only.csv"
   ]
  },
  {
   "cell_type": "markdown",
   "metadata": {},
   "source": [
    "Problem 5 (explanation)\n",
    "\n",
    "I first used the 'wc -l' command to check the current number of lines of the 'Locus_Germplasm_Phenotype_20130122.txt' file\n",
    "Then, I used the command 'tail', which shows the last lines of a file, with the argumen '-7215', which indicates that I only want the last 7215 lines printed in the screen. I sent this output to a new file called 'data_only.csv' directing it with '>' symbol.\n",
    "Finally, I checked the current lines of 'data_only.csv' file by using again 'wc -l' command for this new file."
   ]
  },
  {
   "cell_type": "code",
   "execution_count": null,
   "metadata": {},
   "outputs": [],
   "source": [
    "# Problem 6\n",
    "\n"
   ]
  }
 ],
 "metadata": {
  "kernelspec": {
   "display_name": "Bash",
   "language": "bash",
   "name": "bash"
  },
  "language_info": {
   "codemirror_mode": "shell",
   "file_extension": ".sh",
   "mimetype": "text/x-sh",
   "name": "bash"
  }
 },
 "nbformat": 4,
 "nbformat_minor": 2
}
